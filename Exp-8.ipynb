{
 "cells": [
  {
   "cell_type": "markdown",
   "id": "8c2c737e-ffee-4478-a2e1-0c124e2d0dab",
   "metadata": {},
   "source": [
    "# Implement the Image processing basics: Converting Image to RGB to BGR and to Grayscale, create a White / Black Color Image, how to draw shapes on image."
   ]
  },
  {
   "cell_type": "code",
   "execution_count": 18,
   "id": "25ca9816-202b-4e74-8280-35a2df85c7f1",
   "metadata": {},
   "outputs": [],
   "source": [
    "import cv2\n",
    "import numpy as np"
   ]
  },
  {
   "cell_type": "code",
   "execution_count": 19,
   "id": "18c5e10b",
   "metadata": {},
   "outputs": [],
   "source": [
    "def convert_to_grayscale(image_path):\n",
    "    # Load the image\n",
    "    image = cv2.imread(image_path)\n",
    "\n",
    "    # Convert the image to grayscale\n",
    "    grayscale_image = cv2.cvtColor(image, cv2.COLOR_BGR2GRAY)\n",
    "\n",
    "    # Display the original and grayscale images\n",
    "    cv2.imshow(\"Original Image\", image)\n",
    "    cv2.imshow(\"Grayscale Image\", grayscale_image)\n",
    "    cv2.waitKey(0)"
   ]
  },
  {
   "cell_type": "code",
   "execution_count": 20,
   "id": "1d9a1d7b",
   "metadata": {},
   "outputs": [],
   "source": [
    "def convert_to_bgr(image_path, output_path):\n",
    "    # Load the image\n",
    "    image = cv2.imread(image_path)\n",
    "\n",
    "    # Convert the image to BGR color space\n",
    "    bgr_image = cv2.cvtColor(image, cv2.COLOR_RGB2BGR)\n",
    "\n",
    "    # Display the original and BGR images\n",
    "    cv2.imshow(\"Original Image\", image)\n",
    "    cv2.imshow(\"BGR Image\", bgr_image)\n",
    "    cv2.waitKey(0)\n",
    "    cv2.destroyAllWindows()\n",
    "\n",
    "    # Save the BGR image\n",
    "    cv2.imwrite(output_path, bgr_image)\n",
    "    print(\"BGR image saved as\", output_path)"
   ]
  },
  {
   "cell_type": "markdown",
   "id": "7fb43566",
   "metadata": {},
   "source": [
    "## In this code, the convert_bgr_to_rgb function takes an image in BGR color space (image_bgr) and converts it to RGB color space using cv2.cvtColor with the cv2.COLOR_BGR2RGB flag. It then displays both the original BGR image and the converted RGB image."
   ]
  },
  {
   "cell_type": "code",
   "execution_count": 24,
   "id": "fc787068",
   "metadata": {},
   "outputs": [],
   "source": [
    "def convert_bgr_to_rgb(output_path):\n",
    "    # Load the image\n",
    "    image_bgr = cv2.imread(output_path)\n",
    "\n",
    "    # Convert the image from BGR to RGB color space\n",
    "    image_rgb = cv2.cvtColor(image_bgr, cv2.COLOR_BGR2RGB)\n",
    "\n",
    "    # Display the original BGR image and the converted RGB image\n",
    "    cv2.imshow(\"BGR Image\", image_bgr)\n",
    "    cv2.imshow(\"RGB Image\", image_rgb)\n",
    "    cv2.waitKey(0)\n",
    "    "
   ]
  },
  {
   "cell_type": "code",
   "execution_count": 25,
   "id": "3ff8a954",
   "metadata": {},
   "outputs": [],
   "source": [
    "# Main program\n",
    "image_path=\"C:/Users/Manuj Khajuria/Downloads/Five.jpg\"\n",
    "output_path = \"C:/Users/Manuj Khajuria/Downloads/Five_output.jpg\""
   ]
  },
  {
   "cell_type": "code",
   "execution_count": 26,
   "id": "12a1a1c6",
   "metadata": {},
   "outputs": [],
   "source": [
    "# Convert image to grayscale\n",
    "convert_to_grayscale(image_path)"
   ]
  },
  {
   "cell_type": "code",
   "execution_count": 27,
   "id": "30cd5150",
   "metadata": {},
   "outputs": [
    {
     "name": "stdout",
     "output_type": "stream",
     "text": [
      "BGR image saved as C:/Users/Manuj Khajuria/Downloads/Five_output.jpg\n"
     ]
    }
   ],
   "source": [
    "# Convert image to BGR and save it\n",
    "convert_to_bgr(image_path, output_path)"
   ]
  },
  {
   "cell_type": "code",
   "execution_count": 28,
   "id": "e92586b9",
   "metadata": {},
   "outputs": [],
   "source": [
    "# Convert BGR image to RGB\n",
    "convert_bgr_to_rgb(output_path)"
   ]
  },
  {
   "cell_type": "code",
   "execution_count": 29,
   "id": "250de3db",
   "metadata": {},
   "outputs": [],
   "source": [
    "def create_white_image(width, height):\n",
    "    # Create a white color image\n",
    "    white_image = np.ones((height, width, 3), dtype=np.uint8) * 255\n",
    "\n",
    "    # Display the white image\n",
    "    cv2.imshow(\"White Image\", white_image)\n",
    "    cv2.waitKey(0)"
   ]
  },
  {
   "cell_type": "code",
   "execution_count": 30,
   "id": "6db1ea12",
   "metadata": {},
   "outputs": [],
   "source": [
    "def create_black_image(width, height):\n",
    "    # Create a black color image\n",
    "    black_image = np.zeros((height, width, 3), dtype=np.uint8)\n",
    "\n",
    "    # Display the black image\n",
    "    cv2.imshow(\"Black Image\", black_image)\n",
    "    cv2.waitKey(0)"
   ]
  },
  {
   "cell_type": "markdown",
   "id": "3c205223",
   "metadata": {},
   "source": [
    "### np.ones((height, width, 3), dtype=np.uint8) creates a NumPy array of shape (height, width, 3) with all elements initialized to 1. The (height, width, 3) shape represents an image with height number of rows, width number of columns, and 3 channels (Red, Green, Blue).\n",
    "* 255 multiplies each element in the array by 255. This is done to set all the pixel values to their maximum value, resulting in a white image since RGB values of (255, 255, 255) represent white.\n",
    "The resulting array is assigned to the variable white_image, representing a white color image.\n",
    "\n",
    "\n",
    "### np.zeros((height, width, 3), dtype=np.uint8) creates a NumPy array of shape (height, width, 3) with all elements initialized to 0. Similar to the previous line, the shape (height, width, 3) represents an image with height rows, width columns, and 3 channels (RGB).\n",
    "The resulting array is assigned to the variable black_image, representing a black color image."
   ]
  },
  {
   "cell_type": "code",
   "execution_count": 31,
   "id": "bccca969",
   "metadata": {},
   "outputs": [],
   "source": [
    "def draw_shapes_on_image(image_path):\n",
    "    # Load the image\n",
    "    image = cv2.imread(image_path)\n",
    "\n",
    "    # Draw a rectangle on the image\n",
    "    cv2.rectangle(image, (50, 50), (200, 200), (0, 255, 0), 2)\n",
    "\n",
    "    # Draw a circle on the image\n",
    "    cv2.circle(image, (300, 150), 100, (0, 0, 255), 2)\n",
    "\n",
    "    # Draw a line on the image\n",
    "    cv2.line(image, (400, 50), (400, 250), (255, 0, 0), 2)\n",
    "\n",
    "    # Display the image with shapes\n",
    "    cv2.imshow(\"Image with Shapes\", image)\n",
    "    cv2.waitKey(0)"
   ]
  },
  {
   "cell_type": "markdown",
   "id": "55499315",
   "metadata": {},
   "source": [
    "### cv2.rectangle(image, (50, 50), (200, 200), (0, 255, 0), 2): This line draws a rectangle on the image using the cv2.rectangle function. The rectangle is defined by specifying the top-left and bottom-right corner coordinates (50, 50) and (200, 200), respectively. The (0, 255, 0) parameter specifies the color of the rectangle (green in this case), and 2 specifies the thickness of the rectangle.\n",
    "\n",
    "### cv2.circle(image, (300, 150), 100, (0, 0, 255), 2): This line draws a circle on the image using the cv2.circle function. The circle is defined by specifying the center coordinates (300, 150), the radius 100, and the color (0, 0, 255) (red in this case). The last parameter 2 specifies the thickness of the circle outline.\n",
    "\n",
    "### cv2.line(image, (400, 50), (400, 250), (255, 0, 0), 2): This line draws a line on the image using the cv2.line function. The line is defined by specifying the starting point (400, 50) and the ending point (400, 250). The color (255, 0, 0) represents blue, and 2 specifies the thickness of the line."
   ]
  },
  {
   "cell_type": "code",
   "execution_count": 32,
   "id": "8254e0a4",
   "metadata": {},
   "outputs": [],
   "source": [
    "# Main program\n",
    "width, height = 800, 600"
   ]
  },
  {
   "cell_type": "code",
   "execution_count": 33,
   "id": "0247c478",
   "metadata": {},
   "outputs": [],
   "source": [
    "# Create a white image\n",
    "create_white_image(width, height)"
   ]
  },
  {
   "cell_type": "code",
   "execution_count": 34,
   "id": "608a1476",
   "metadata": {},
   "outputs": [],
   "source": [
    "# Create a black image\n",
    "create_black_image(width, height)"
   ]
  },
  {
   "cell_type": "code",
   "execution_count": null,
   "id": "54df21d2",
   "metadata": {},
   "outputs": [],
   "source": [
    "# Draw shapes on an image\n",
    "image_path = \"C:/Users/Manuj Khajuria/Downloads/Five.jpg\"\n",
    "draw_shapes_on_image(image_path)"
   ]
  },
  {
   "cell_type": "code",
   "execution_count": null,
   "id": "8d44f830",
   "metadata": {},
   "outputs": [],
   "source": []
  },
  {
   "cell_type": "code",
   "execution_count": null,
   "id": "205ce35e-4125-4659-8fb6-4f03af52127d",
   "metadata": {},
   "outputs": [],
   "source": []
  }
 ],
 "metadata": {
  "kernelspec": {
   "display_name": "Python 3 (ipykernel)",
   "language": "python",
   "name": "python3"
  },
  "language_info": {
   "codemirror_mode": {
    "name": "ipython",
    "version": 3
   },
   "file_extension": ".py",
   "mimetype": "text/x-python",
   "name": "python",
   "nbconvert_exporter": "python",
   "pygments_lexer": "ipython3",
   "version": "3.11.4"
  }
 },
 "nbformat": 4,
 "nbformat_minor": 5
}
